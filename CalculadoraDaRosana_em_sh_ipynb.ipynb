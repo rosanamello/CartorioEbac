{
  "nbformat": 4,
  "nbformat_minor": 0,
  "metadata": {
    "colab": {
      "provenance": [],
      "authorship_tag": "ABX9TyO1uevvMmy2yw/Zu6iv6UDY"
    },
    "kernelspec": {
      "name": "python3",
      "display_name": "Python 3"
    },
    "language_info": {
      "name": "python"
    }
  },
  "cells": [
    {
      "cell_type": "code",
      "execution_count": 1,
      "metadata": {
        "colab": {
          "base_uri": "https://localhost:8080/",
          "height": 106
        },
        "collapsed": true,
        "id": "D7kJTbUMzDD6",
        "outputId": "222cdc60-89d6-47ba-d1ab-61615f5b6c2d"
      },
      "outputs": [
        {
          "output_type": "error",
          "ename": "SyntaxError",
          "evalue": "invalid syntax (<ipython-input-1-d516c5f2afd4>, line 4)",
          "traceback": [
            "\u001b[0;36m  File \u001b[0;32m\"<ipython-input-1-d516c5f2afd4>\"\u001b[0;36m, line \u001b[0;32m4\u001b[0m\n\u001b[0;31m    echo \"Digite o número desejado: \"\u001b[0m\n\u001b[0m         ^\u001b[0m\n\u001b[0;31mSyntaxError\u001b[0m\u001b[0;31m:\u001b[0m invalid syntax\n"
          ]
        }
      ],
      "source": [
        "#!/bin/bash\n",
        "\n",
        "# Solicita o primeiro número\n",
        "echo \"Digite o número desejado: \"\n",
        "read num1\n",
        "\n",
        "# Solicita o segundo número\n",
        "echo \"Digite o outro número desejado: \"\n",
        "read num2\n",
        "\n",
        "# Exibe os números digitados\n",
        "echo \"Você digitou $num1 e $num2\"\n"
      ]
    },
    {
      "cell_type": "code",
      "source": [
        "# Exibe o menu de operações\n",
        "echo \"Escolha uma operação:\"\n",
        "echo \"1. Adição\"\n",
        "echo \"2. Subtração\"\n",
        "echo \"3. Multiplicação\"\n",
        "echo \"4. Divisão\"\n",
        "echo \"5. Sair\"\n",
        "\n",
        "# Lê a escolha do usuário\n",
        "read -p \"Digite o número da operação desejada: \" operacao\n",
        "\n",
        "# Verifica a escolha e executa a operação correspondente\n",
        "case $operacao in\n",
        "\n",
        "        echo \"Você escolheu Adição\"\n",
        "        read -p \"Digite o primeiro número: \" num1\n",
        "        read -p \"Digite o segundo número: \" num2\n",
        "        resultado=$(echo \"$num1 + $num2\" | bc)\n",
        "        echo \"Resultado: $resultado\"\n",
        "\n",
        "        echo \"Você escolheu Subtração\"\n",
        "        read -p \"Digite o primeiro número: \" num1\n",
        "        read -p \"Digite o segundo número: \" num2\n",
        "        resultado=$(echo \"$num1 - $num2\" | bc)\n",
        "        echo \"Resultado: $resultado\"\n",
        "\n",
        "        echo \"Você escolheu Multiplicação\"\n",
        "        read -p \"Digite o primeiro número: \" num1\n",
        "        read -p \"Digite o segundo número: \" num2\n",
        "        resultado=$(echo \"$num1 * $num2\" | bc)\n",
        "        echo \"Resultado: $resultado\"\n",
        "\n",
        "        echo \"Você escolheu Divisão\"\n",
        "        read -p \"Digite o primeiro número: \" num1\n",
        "        read -p \"Digite o segundo número: \" num2\n",
        "        if [ \"$num2\" != \"0\" ]; then\n",
        "            resultado=$(echo \"scale=2; $num1 / $num2\" | bc)\n",
        "            echo \"Resultado: $resultado\"\n",
        "        else\n",
        "            echo \"Erro: Não é possível dividir por zero.\"\n",
        "        fi\n",
        "\n",
        "            echo \"Saindo...\"\n",
        "        exit 0\n",
        "\n",
        "        echo \"Opção inválida. Tente novamente.\"\n",
        "\n",
        "esac"
      ],
      "metadata": {
        "id": "uSqyyS36dRIJ"
      },
      "execution_count": null,
      "outputs": []
    }
  ]
}